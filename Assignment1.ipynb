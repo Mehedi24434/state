{
 "cells": [
  {
   "attachments": {},
   "cell_type": "markdown",
   "metadata": {},
   "source": [
    "here,  \n",
    "null Hyp (Ho) = non-stationary  \n",
    "alternate Hyp (Ha) = stationary  "
   ]
  },
  {
   "cell_type": "code",
   "execution_count": 71,
   "metadata": {},
   "outputs": [
    {
     "name": "stdout",
     "output_type": "stream",
     "text": [
      "Results of Dickey-Fuller Test:\n",
      "Test Statistic                 -2.317467\n",
      "p-value                         0.166396\n",
      "#Lags Used                      1.000000\n",
      "Number of Observations Used    66.000000\n",
      "Critical Value (1%)            -3.533560\n",
      "Critical Value (5%)            -2.906444\n",
      "Critical Value (10%)           -2.590724\n",
      "dtype: float64\n"
     ]
    }
   ],
   "source": [
    "import os\n",
    "import pandas as pd\n",
    "from statsmodels.tsa.stattools import adfuller\n",
    "pwd = os.getcwd()\n",
    "file_path = pwd + \"/data_csv.csv\"\n",
    "file = pd.read_csv(file_path)\n",
    "gold_last5years=file.loc[750:,[\"date\",\"price\"]]\n",
    "result = adfuller(gold_last5years[\"price\"],autolag=\"AIC\")\n",
    "print (\"Results of Dickey-Fuller Test:\")\n",
    "dfoutput = pd.Series(result[0:4], index=['Test Statistic','p-value','#Lags Used','Number of Observations Used'])\n",
    "for key,value in result[4].items():\n",
    "    dfoutput['Critical Value (%s)'%key] = value\n",
    "print (dfoutput)\n"
   ]
  },
  {
   "attachments": {},
   "cell_type": "markdown",
   "metadata": {},
   "source": [
    "The p-value is obtained 0.167 is greater than significance level of 0.05 and the ADF statistic -2.31 is higher than any of the critical values.\n",
    "\n",
    "Clearly, there is no reason to reject the null hypothesis. So, the time series is in fact non-stationary."
   ]
  },
  {
   "cell_type": "code",
   "execution_count": 79,
   "metadata": {},
   "outputs": [
    {
     "name": "stdout",
     "output_type": "stream",
     "text": [
      "Results of Dickey-Fuller Test:\n",
      "Test Statistic                   -1.518910\n",
      "p-value                           0.524137\n",
      "#Lags Used                       11.000000\n",
      "Number of Observations Used    1463.000000\n",
      "Critical Value (1%)              -3.434828\n",
      "Critical Value (5%)              -2.863518\n",
      "Critical Value (10%)             -2.567823\n",
      "dtype: float64\n"
     ]
    }
   ],
   "source": [
    "pwd = os.getcwd()\n",
    "file_path = pwd + \"/silver_price.csv\"\n",
    "file = pd.read_csv(file_path)\n",
    "silver_last5years=file.loc[12000:,[\"date\",\"price\"]]\n",
    "result = adfuller(silver_last5years[\"price\"],autolag=\"AIC\")\n",
    "print (\"Results of Dickey-Fuller Test:\")\n",
    "dfoutput = pd.Series(result[0:4], index=['Test Statistic','p-value','#Lags Used','Number of Observations Used'])\n",
    "for key,value in result[4].items():\n",
    "    dfoutput['Critical Value (%s)'%key] = value\n",
    "print (dfoutput)"
   ]
  },
  {
   "attachments": {},
   "cell_type": "markdown",
   "metadata": {},
   "source": [
    "The p-value is obtained 0.524 is greater than significance level of 0.05 and the ADF statistic -1.52 is higher than any of the critical values.\n",
    "\n",
    "Clearly, there is no reason to reject the null hypothesis. So, the time series is in fact non-stationary."
   ]
  }
 ],
 "metadata": {
  "kernelspec": {
   "display_name": "base",
   "language": "python",
   "name": "python3"
  },
  "language_info": {
   "codemirror_mode": {
    "name": "ipython",
    "version": 3
   },
   "file_extension": ".py",
   "mimetype": "text/x-python",
   "name": "python",
   "nbconvert_exporter": "python",
   "pygments_lexer": "ipython3",
   "version": "3.9.12"
  },
  "orig_nbformat": 4,
  "vscode": {
   "interpreter": {
    "hash": "efbd41bad8d43befa05354d53622acb8da01debbe95ab8e0d1b4c6930853ea06"
   }
  }
 },
 "nbformat": 4,
 "nbformat_minor": 2
}
