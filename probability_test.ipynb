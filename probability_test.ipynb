{
 "cells": [
  {
   "attachments": {},
   "cell_type": "markdown",
   "metadata": {},
   "source": [
    "### Coin toss"
   ]
  },
  {
   "cell_type": "code",
   "execution_count": 10,
   "metadata": {},
   "outputs": [
    {
     "data": {
      "text/plain": [
       "'49.98%'"
      ]
     },
     "execution_count": 10,
     "metadata": {},
     "output_type": "execute_result"
    }
   ],
   "source": [
    "import random\n",
    "def Head_count():\n",
    "    Head = 0\n",
    "    for i in range(100):\n",
    "        if random.random()<=0.5:\n",
    "            Head += 1\n",
    "    return Head            \n",
    "\n",
    "\n",
    "def simulate(n):\n",
    "    trail = []\n",
    "    for i in range(n):\n",
    "        trail.append(Head_count())\n",
    "    return (\"{:.2%}\".format(sum(trail)/(100*n)))   \n",
    "simulate(1000)\n"
   ]
  },
  {
   "attachments": {},
   "cell_type": "markdown",
   "metadata": {},
   "source": [
    "### 4 type of probability"
   ]
  },
  {
   "cell_type": "code",
   "execution_count": 31,
   "metadata": {},
   "outputs": [
    {
     "name": "stdout",
     "output_type": "stream",
     "text": [
      "0.5\n",
      "0.019230769230769218\n",
      "0.0625\n",
      "0.058823529411764705\n",
      "0.004524886877828055\n"
     ]
    }
   ],
   "source": [
    "import math\n",
    "def permutation(x,y) :\n",
    "    return (math.factorial(x)/math.factorial(x-y))\n",
    "def combination(x,y):\n",
    "    return (permutation(x,y)/y)  \n",
    "\n",
    "def probability(element,space) :\n",
    "    return element/space\n",
    "\n",
    "Card = 52\n",
    "Ace = 4\n",
    "Queen = 4\n",
    "King = 4\n",
    "Spade = 13\n",
    "Clubs = 13\n",
    "Diamonds = 13\n",
    "Heart = 13\n",
    "# Mutually Exclusive Event\n",
    "Prob_of_Getting_a_Heart_or_a_Spade = probability(Heart,Card) + probability(Spade,Card)\n",
    "print(Prob_of_Getting_a_Heart_or_a_Spade)\n",
    "\n",
    "# Mutually not Exclusive Event\n",
    "prob_of_getting_a_Heart_or_a_king = probability(Heart, Card) + probability(King,Card) -probability(King,Heart)\n",
    "print (prob_of_getting_a_Heart_or_a_king)\n",
    "\n",
    "#Independent Event\n",
    "prob_of_getting_two_consecutive_independent_Clubs = probability(Clubs,Card)*probability(Clubs,Card)\n",
    "print(prob_of_getting_two_consecutive_independent_Clubs)\n",
    "prob_of_getting_two_Clubs_using_Combination = probability (combination(Clubs,2),combination(Card,2))\n",
    "print(prob_of_getting_two_Clubs_using_Combination)\n",
    "\n",
    "#dependent Event\n",
    "prob_of_getting_two_Ace_in_a_row = probability(Ace,Card)*probability(Ace-1,Card-1)\n",
    "print(prob_of_getting_two_Ace_in_a_row)\n"
   ]
  }
 ],
 "metadata": {
  "kernelspec": {
   "display_name": "base",
   "language": "python",
   "name": "python3"
  },
  "language_info": {
   "codemirror_mode": {
    "name": "ipython",
    "version": 3
   },
   "file_extension": ".py",
   "mimetype": "text/x-python",
   "name": "python",
   "nbconvert_exporter": "python",
   "pygments_lexer": "ipython3",
   "version": "3.9.12"
  },
  "orig_nbformat": 4,
  "vscode": {
   "interpreter": {
    "hash": "efbd41bad8d43befa05354d53622acb8da01debbe95ab8e0d1b4c6930853ea06"
   }
  }
 },
 "nbformat": 4,
 "nbformat_minor": 2
}
